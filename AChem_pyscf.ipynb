{
 "cells": [
  {
   "cell_type": "markdown",
   "source": [
    "# Using Python for Quantum Chemistry Calculations"
   ],
   "metadata": {
    "collapsed": false,
    "pycharm": {
     "name": "#%% md\n"
    }
   }
  },
  {
   "cell_type": "markdown",
   "source": [
    "![](python-logo.png)"
   ],
   "metadata": {
    "collapsed": false,
    "pycharm": {
     "name": "#%% md\n"
    }
   }
  },
  {
   "cell_type": "markdown",
   "source": [
    "#### Python Package Python-based Simulations of Chemistry Framework (PySCF)\n",
    "\n",
    "Resources:\n",
    "https://pyscf.org/index.html\n",
    "https://www.python.org/\n",
    "https://avogadro.cc/\n",
    "\n",
    "The PySCF Python package is an open source collection of electronic structure models. It is designed for easy extensibility and simple enough that it requires only a fundamental understanding. PySCF's objective is to simply and efficiently solve quantum chemistry calculations and simulate properties of given molecules or crystals. It is a highly customizable Python package and contains an array of features and extension modules for further analysis.\n",
    "\n",
    "Main Functionalities:\n",
    "- *Molecular structure\n",
    "- Self-consistent field (SCF) methods\n",
    "- *Density functional theory (DFT)\n",
    "- Second-order Moller-Plesset perturbation theory\n",
    "- GW approximation\n",
    "- Configuration interaction (CISC and FCI)\n",
    "- Coupled-cluster theory\n",
    "- Algebraic diagrammatic construction (ADC)\n",
    "- Auxiliary second-order Green's functional perturbation theory (AGF2)\n",
    "- Multi-configuration self-consistent field (MCSCF)\n",
    "- Time-dependent Hartree-Fock and density functional theory\n",
    "- Solvation models\n",
    "- *QM/MM methods\n",
    "- Density fitting\n",
    "- Periodic boundary conditions\n",
    "- Electronic-phonon coupling\n",
    "- Localized orbitals\n",
    "- Seminumerical exchange (SGX)\n",
    "- *Geometry optimization\n",
    "*Modules utilized in following analysis"
   ],
   "metadata": {
    "collapsed": false,
    "pycharm": {
     "name": "#%% md\n"
    }
   }
  },
  {
   "cell_type": "markdown",
   "source": [
    "![](pyscf-logo.png)"
   ],
   "metadata": {
    "collapsed": false,
    "pycharm": {
     "name": "#%% md\n"
    }
   }
  },
  {
   "cell_type": "code",
   "execution_count": 4,
   "outputs": [
    {
     "ename": "OSError",
     "evalue": "dlopen(/Users/cloekwiatkowski/.conda/envs/untitled/lib/python3.10/site-packages/pyscf/lib/libnp_helper.dylib, 0x0006): Library not loaded: /usr/local/opt/libomp/lib/libomp.dylib\n  Referenced from: <09302566-E7C9-33BF-8F7D-33EDB0C5E5D3> /Users/cloekwiatkowski/.conda/envs/untitled/lib/python3.10/site-packages/pyscf/lib/libnp_helper.dylib\n  Reason: tried: '/usr/local/opt/libomp/lib/libomp.dylib' (no such file), '/System/Volumes/Preboot/Cryptexes/OS/usr/local/opt/libomp/lib/libomp.dylib' (no such file), '/usr/local/opt/libomp/lib/libomp.dylib' (no such file), '/usr/local/lib/libomp.dylib' (no such file), '/usr/lib/libomp.dylib' (no such file, not in dyld cache)",
     "output_type": "error",
     "traceback": [
      "\u001B[0;31m---------------------------------------------------------------------------\u001B[0m",
      "\u001B[0;31mOSError\u001B[0m                                   Traceback (most recent call last)",
      "File \u001B[0;32m~/.conda/envs/untitled/lib/python3.10/site-packages/pyscf/lib/misc.py:55\u001B[0m, in \u001B[0;36mload_library\u001B[0;34m(libname)\u001B[0m\n\u001B[1;32m     54\u001B[0m     _loaderpath \u001B[38;5;241m=\u001B[39m os\u001B[38;5;241m.\u001B[39mpath\u001B[38;5;241m.\u001B[39mdirname(\u001B[38;5;18m__file__\u001B[39m)\n\u001B[0;32m---> 55\u001B[0m     \u001B[38;5;28;01mreturn\u001B[39;00m \u001B[43mnumpy\u001B[49m\u001B[38;5;241;43m.\u001B[39;49m\u001B[43mctypeslib\u001B[49m\u001B[38;5;241;43m.\u001B[39;49m\u001B[43mload_library\u001B[49m\u001B[43m(\u001B[49m\u001B[43mlibname\u001B[49m\u001B[43m,\u001B[49m\u001B[43m \u001B[49m\u001B[43m_loaderpath\u001B[49m\u001B[43m)\u001B[49m\n\u001B[1;32m     56\u001B[0m \u001B[38;5;28;01mexcept\u001B[39;00m \u001B[38;5;167;01mOSError\u001B[39;00m:\n",
      "File \u001B[0;32m~/.conda/envs/untitled/lib/python3.10/site-packages/numpy/ctypeslib.py:149\u001B[0m, in \u001B[0;36mload_library\u001B[0;34m(libname, loader_path)\u001B[0m\n\u001B[1;32m    148\u001B[0m \u001B[38;5;28;01mtry\u001B[39;00m:\n\u001B[0;32m--> 149\u001B[0m     \u001B[38;5;28;01mreturn\u001B[39;00m \u001B[43mctypes\u001B[49m\u001B[38;5;241;43m.\u001B[39;49m\u001B[43mcdll\u001B[49m\u001B[43m[\u001B[49m\u001B[43mlibpath\u001B[49m\u001B[43m]\u001B[49m\n\u001B[1;32m    150\u001B[0m \u001B[38;5;28;01mexcept\u001B[39;00m \u001B[38;5;167;01mOSError\u001B[39;00m:\n\u001B[1;32m    151\u001B[0m     \u001B[38;5;66;03m## defective lib file\u001B[39;00m\n",
      "File \u001B[0;32m~/.conda/envs/untitled/lib/python3.10/ctypes/__init__.py:449\u001B[0m, in \u001B[0;36mLibraryLoader.__getitem__\u001B[0;34m(self, name)\u001B[0m\n\u001B[1;32m    448\u001B[0m \u001B[38;5;28;01mdef\u001B[39;00m \u001B[38;5;21m__getitem__\u001B[39m(\u001B[38;5;28mself\u001B[39m, name):\n\u001B[0;32m--> 449\u001B[0m     \u001B[38;5;28;01mreturn\u001B[39;00m \u001B[38;5;28;43mgetattr\u001B[39;49m\u001B[43m(\u001B[49m\u001B[38;5;28;43mself\u001B[39;49m\u001B[43m,\u001B[49m\u001B[43m \u001B[49m\u001B[43mname\u001B[49m\u001B[43m)\u001B[49m\n",
      "File \u001B[0;32m~/.conda/envs/untitled/lib/python3.10/ctypes/__init__.py:444\u001B[0m, in \u001B[0;36mLibraryLoader.__getattr__\u001B[0;34m(self, name)\u001B[0m\n\u001B[1;32m    443\u001B[0m     \u001B[38;5;28;01mraise\u001B[39;00m \u001B[38;5;167;01mAttributeError\u001B[39;00m(name)\n\u001B[0;32m--> 444\u001B[0m dll \u001B[38;5;241m=\u001B[39m \u001B[38;5;28;43mself\u001B[39;49m\u001B[38;5;241;43m.\u001B[39;49m\u001B[43m_dlltype\u001B[49m\u001B[43m(\u001B[49m\u001B[43mname\u001B[49m\u001B[43m)\u001B[49m\n\u001B[1;32m    445\u001B[0m \u001B[38;5;28msetattr\u001B[39m(\u001B[38;5;28mself\u001B[39m, name, dll)\n",
      "File \u001B[0;32m~/.conda/envs/untitled/lib/python3.10/ctypes/__init__.py:374\u001B[0m, in \u001B[0;36mCDLL.__init__\u001B[0;34m(self, name, mode, handle, use_errno, use_last_error, winmode)\u001B[0m\n\u001B[1;32m    373\u001B[0m \u001B[38;5;28;01mif\u001B[39;00m handle \u001B[38;5;129;01mis\u001B[39;00m \u001B[38;5;28;01mNone\u001B[39;00m:\n\u001B[0;32m--> 374\u001B[0m     \u001B[38;5;28mself\u001B[39m\u001B[38;5;241m.\u001B[39m_handle \u001B[38;5;241m=\u001B[39m \u001B[43m_dlopen\u001B[49m\u001B[43m(\u001B[49m\u001B[38;5;28;43mself\u001B[39;49m\u001B[38;5;241;43m.\u001B[39;49m\u001B[43m_name\u001B[49m\u001B[43m,\u001B[49m\u001B[43m \u001B[49m\u001B[43mmode\u001B[49m\u001B[43m)\u001B[49m\n\u001B[1;32m    375\u001B[0m \u001B[38;5;28;01melse\u001B[39;00m:\n",
      "\u001B[0;31mOSError\u001B[0m: dlopen(/Users/cloekwiatkowski/.conda/envs/untitled/lib/python3.10/site-packages/pyscf/lib/libnp_helper.dylib, 0x0006): Library not loaded: /usr/local/opt/libomp/lib/libomp.dylib\n  Referenced from: <09302566-E7C9-33BF-8F7D-33EDB0C5E5D3> /Users/cloekwiatkowski/.conda/envs/untitled/lib/python3.10/site-packages/pyscf/lib/libnp_helper.dylib\n  Reason: tried: '/usr/local/opt/libomp/lib/libomp.dylib' (no such file), '/System/Volumes/Preboot/Cryptexes/OS/usr/local/opt/libomp/lib/libomp.dylib' (no such file), '/usr/local/opt/libomp/lib/libomp.dylib' (no such file), '/usr/local/lib/libomp.dylib' (no such file), '/usr/lib/libomp.dylib' (no such file, not in dyld cache)",
      "\nDuring handling of the above exception, another exception occurred:\n",
      "\u001B[0;31mOSError\u001B[0m                                   Traceback (most recent call last)",
      "Input \u001B[0;32mIn [4]\u001B[0m, in \u001B[0;36m<cell line: 2>\u001B[0;34m()\u001B[0m\n\u001B[1;32m      1\u001B[0m \u001B[38;5;66;03m# imports required to run\u001B[39;00m\n\u001B[0;32m----> 2\u001B[0m \u001B[38;5;28;01mimport\u001B[39;00m \u001B[38;5;21;01mpyscf\u001B[39;00m\n\u001B[1;32m      3\u001B[0m \u001B[38;5;28;01mimport\u001B[39;00m \u001B[38;5;21;01mnumpy\u001B[39;00m \u001B[38;5;28;01mas\u001B[39;00m \u001B[38;5;21;01mnp\u001B[39;00m\n",
      "File \u001B[0;32m~/.conda/envs/untitled/lib/python3.10/site-packages/pyscf/__init__.py:113\u001B[0m, in \u001B[0;36m<module>\u001B[0;34m\u001B[0m\n\u001B[1;32m    110\u001B[0m     _internal\u001B[38;5;241m.\u001B[39m_get_void_ptr \u001B[38;5;241m=\u001B[39m _get_void_ptr\n\u001B[1;32m    112\u001B[0m \u001B[38;5;28;01mfrom\u001B[39;00m \u001B[38;5;21;01mpyscf\u001B[39;00m \u001B[38;5;28;01mimport\u001B[39;00m __config__\n\u001B[0;32m--> 113\u001B[0m \u001B[38;5;28;01mfrom\u001B[39;00m \u001B[38;5;21;01mpyscf\u001B[39;00m \u001B[38;5;28;01mimport\u001B[39;00m lib\n\u001B[1;32m    114\u001B[0m \u001B[38;5;28;01mfrom\u001B[39;00m \u001B[38;5;21;01mpyscf\u001B[39;00m \u001B[38;5;28;01mimport\u001B[39;00m gto\n\u001B[1;32m    115\u001B[0m \u001B[38;5;28;01mfrom\u001B[39;00m \u001B[38;5;21;01mpyscf\u001B[39;00m \u001B[38;5;28;01mimport\u001B[39;00m scf\n",
      "File \u001B[0;32m~/.conda/envs/untitled/lib/python3.10/site-packages/pyscf/lib/__init__.py:24\u001B[0m, in \u001B[0;36m<module>\u001B[0;34m\u001B[0m\n\u001B[1;32m     22\u001B[0m \u001B[38;5;28;01mfrom\u001B[39;00m \u001B[38;5;21;01mpyscf\u001B[39;00m\u001B[38;5;21;01m.\u001B[39;00m\u001B[38;5;21;01mlib\u001B[39;00m \u001B[38;5;28;01mimport\u001B[39;00m parameters\n\u001B[1;32m     23\u001B[0m param \u001B[38;5;241m=\u001B[39m parameters\n\u001B[0;32m---> 24\u001B[0m \u001B[38;5;28;01mfrom\u001B[39;00m \u001B[38;5;21;01mpyscf\u001B[39;00m\u001B[38;5;21;01m.\u001B[39;00m\u001B[38;5;21;01mlib\u001B[39;00m \u001B[38;5;28;01mimport\u001B[39;00m numpy_helper\n\u001B[1;32m     25\u001B[0m \u001B[38;5;28;01mfrom\u001B[39;00m \u001B[38;5;21;01mpyscf\u001B[39;00m\u001B[38;5;21;01m.\u001B[39;00m\u001B[38;5;21;01mlib\u001B[39;00m \u001B[38;5;28;01mimport\u001B[39;00m linalg_helper\n\u001B[1;32m     26\u001B[0m \u001B[38;5;28;01mfrom\u001B[39;00m \u001B[38;5;21;01mpyscf\u001B[39;00m\u001B[38;5;21;01m.\u001B[39;00m\u001B[38;5;21;01mlib\u001B[39;00m \u001B[38;5;28;01mimport\u001B[39;00m scipy_helper\n",
      "File \u001B[0;32m~/.conda/envs/untitled/lib/python3.10/site-packages/pyscf/lib/numpy_helper.py:39\u001B[0m, in \u001B[0;36m<module>\u001B[0;34m\u001B[0m\n\u001B[1;32m     36\u001B[0m \u001B[38;5;28;01mexcept\u001B[39;00m (\u001B[38;5;167;01mImportError\u001B[39;00m, \u001B[38;5;167;01mOSError\u001B[39;00m):\n\u001B[1;32m     37\u001B[0m     FOUND_TBLIS \u001B[38;5;241m=\u001B[39m \u001B[38;5;28;01mFalse\u001B[39;00m\n\u001B[0;32m---> 39\u001B[0m _np_helper \u001B[38;5;241m=\u001B[39m \u001B[43mmisc\u001B[49m\u001B[38;5;241;43m.\u001B[39;49m\u001B[43mload_library\u001B[49m\u001B[43m(\u001B[49m\u001B[38;5;124;43m'\u001B[39;49m\u001B[38;5;124;43mlibnp_helper\u001B[39;49m\u001B[38;5;124;43m'\u001B[39;49m\u001B[43m)\u001B[49m\n\u001B[1;32m     41\u001B[0m BLOCK_DIM \u001B[38;5;241m=\u001B[39m \u001B[38;5;241m192\u001B[39m\n\u001B[1;32m     42\u001B[0m PLAIN \u001B[38;5;241m=\u001B[39m \u001B[38;5;241m0\u001B[39m\n",
      "File \u001B[0;32m~/.conda/envs/untitled/lib/python3.10/site-packages/pyscf/lib/misc.py:63\u001B[0m, in \u001B[0;36mload_library\u001B[0;34m(libname)\u001B[0m\n\u001B[1;32m     61\u001B[0m         \u001B[38;5;28;01mfor\u001B[39;00m files \u001B[38;5;129;01min\u001B[39;00m os\u001B[38;5;241m.\u001B[39mlistdir(libpath):\n\u001B[1;32m     62\u001B[0m             \u001B[38;5;28;01mif\u001B[39;00m files\u001B[38;5;241m.\u001B[39mstartswith(libname):\n\u001B[0;32m---> 63\u001B[0m                 \u001B[38;5;28;01mreturn\u001B[39;00m \u001B[43mnumpy\u001B[49m\u001B[38;5;241;43m.\u001B[39;49m\u001B[43mctypeslib\u001B[49m\u001B[38;5;241;43m.\u001B[39;49m\u001B[43mload_library\u001B[49m\u001B[43m(\u001B[49m\u001B[43mlibname\u001B[49m\u001B[43m,\u001B[49m\u001B[43m \u001B[49m\u001B[43mlibpath\u001B[49m\u001B[43m)\u001B[49m\n\u001B[1;32m     64\u001B[0m \u001B[38;5;28;01mraise\u001B[39;00m\n",
      "File \u001B[0;32m~/.conda/envs/untitled/lib/python3.10/site-packages/numpy/ctypeslib.py:149\u001B[0m, in \u001B[0;36mload_library\u001B[0;34m(libname, loader_path)\u001B[0m\n\u001B[1;32m    147\u001B[0m \u001B[38;5;28;01mif\u001B[39;00m os\u001B[38;5;241m.\u001B[39mpath\u001B[38;5;241m.\u001B[39mexists(libpath):\n\u001B[1;32m    148\u001B[0m     \u001B[38;5;28;01mtry\u001B[39;00m:\n\u001B[0;32m--> 149\u001B[0m         \u001B[38;5;28;01mreturn\u001B[39;00m \u001B[43mctypes\u001B[49m\u001B[38;5;241;43m.\u001B[39;49m\u001B[43mcdll\u001B[49m\u001B[43m[\u001B[49m\u001B[43mlibpath\u001B[49m\u001B[43m]\u001B[49m\n\u001B[1;32m    150\u001B[0m     \u001B[38;5;28;01mexcept\u001B[39;00m \u001B[38;5;167;01mOSError\u001B[39;00m:\n\u001B[1;32m    151\u001B[0m         \u001B[38;5;66;03m## defective lib file\u001B[39;00m\n\u001B[1;32m    152\u001B[0m         \u001B[38;5;28;01mraise\u001B[39;00m\n",
      "File \u001B[0;32m~/.conda/envs/untitled/lib/python3.10/ctypes/__init__.py:449\u001B[0m, in \u001B[0;36mLibraryLoader.__getitem__\u001B[0;34m(self, name)\u001B[0m\n\u001B[1;32m    448\u001B[0m \u001B[38;5;28;01mdef\u001B[39;00m \u001B[38;5;21m__getitem__\u001B[39m(\u001B[38;5;28mself\u001B[39m, name):\n\u001B[0;32m--> 449\u001B[0m     \u001B[38;5;28;01mreturn\u001B[39;00m \u001B[38;5;28;43mgetattr\u001B[39;49m\u001B[43m(\u001B[49m\u001B[38;5;28;43mself\u001B[39;49m\u001B[43m,\u001B[49m\u001B[43m \u001B[49m\u001B[43mname\u001B[49m\u001B[43m)\u001B[49m\n",
      "File \u001B[0;32m~/.conda/envs/untitled/lib/python3.10/ctypes/__init__.py:444\u001B[0m, in \u001B[0;36mLibraryLoader.__getattr__\u001B[0;34m(self, name)\u001B[0m\n\u001B[1;32m    442\u001B[0m \u001B[38;5;28;01mif\u001B[39;00m name[\u001B[38;5;241m0\u001B[39m] \u001B[38;5;241m==\u001B[39m \u001B[38;5;124m'\u001B[39m\u001B[38;5;124m_\u001B[39m\u001B[38;5;124m'\u001B[39m:\n\u001B[1;32m    443\u001B[0m     \u001B[38;5;28;01mraise\u001B[39;00m \u001B[38;5;167;01mAttributeError\u001B[39;00m(name)\n\u001B[0;32m--> 444\u001B[0m dll \u001B[38;5;241m=\u001B[39m \u001B[38;5;28;43mself\u001B[39;49m\u001B[38;5;241;43m.\u001B[39;49m\u001B[43m_dlltype\u001B[49m\u001B[43m(\u001B[49m\u001B[43mname\u001B[49m\u001B[43m)\u001B[49m\n\u001B[1;32m    445\u001B[0m \u001B[38;5;28msetattr\u001B[39m(\u001B[38;5;28mself\u001B[39m, name, dll)\n\u001B[1;32m    446\u001B[0m \u001B[38;5;28;01mreturn\u001B[39;00m dll\n",
      "File \u001B[0;32m~/.conda/envs/untitled/lib/python3.10/ctypes/__init__.py:374\u001B[0m, in \u001B[0;36mCDLL.__init__\u001B[0;34m(self, name, mode, handle, use_errno, use_last_error, winmode)\u001B[0m\n\u001B[1;32m    371\u001B[0m \u001B[38;5;28mself\u001B[39m\u001B[38;5;241m.\u001B[39m_FuncPtr \u001B[38;5;241m=\u001B[39m _FuncPtr\n\u001B[1;32m    373\u001B[0m \u001B[38;5;28;01mif\u001B[39;00m handle \u001B[38;5;129;01mis\u001B[39;00m \u001B[38;5;28;01mNone\u001B[39;00m:\n\u001B[0;32m--> 374\u001B[0m     \u001B[38;5;28mself\u001B[39m\u001B[38;5;241m.\u001B[39m_handle \u001B[38;5;241m=\u001B[39m \u001B[43m_dlopen\u001B[49m\u001B[43m(\u001B[49m\u001B[38;5;28;43mself\u001B[39;49m\u001B[38;5;241;43m.\u001B[39;49m\u001B[43m_name\u001B[49m\u001B[43m,\u001B[49m\u001B[43m \u001B[49m\u001B[43mmode\u001B[49m\u001B[43m)\u001B[49m\n\u001B[1;32m    375\u001B[0m \u001B[38;5;28;01melse\u001B[39;00m:\n\u001B[1;32m    376\u001B[0m     \u001B[38;5;28mself\u001B[39m\u001B[38;5;241m.\u001B[39m_handle \u001B[38;5;241m=\u001B[39m handle\n",
      "\u001B[0;31mOSError\u001B[0m: dlopen(/Users/cloekwiatkowski/.conda/envs/untitled/lib/python3.10/site-packages/pyscf/lib/libnp_helper.dylib, 0x0006): Library not loaded: /usr/local/opt/libomp/lib/libomp.dylib\n  Referenced from: <09302566-E7C9-33BF-8F7D-33EDB0C5E5D3> /Users/cloekwiatkowski/.conda/envs/untitled/lib/python3.10/site-packages/pyscf/lib/libnp_helper.dylib\n  Reason: tried: '/usr/local/opt/libomp/lib/libomp.dylib' (no such file), '/System/Volumes/Preboot/Cryptexes/OS/usr/local/opt/libomp/lib/libomp.dylib' (no such file), '/usr/local/opt/libomp/lib/libomp.dylib' (no such file), '/usr/local/lib/libomp.dylib' (no such file), '/usr/lib/libomp.dylib' (no such file, not in dyld cache)"
     ]
    }
   ],
   "source": [
    "# imports required to run\n",
    "import pyscf\n",
    "import numpy as np"
   ],
   "metadata": {
    "collapsed": false,
    "pycharm": {
     "name": "#%%\n"
    }
   }
  },
  {
   "cell_type": "markdown",
   "source": [
    "### Molecular Structure\n",
    "Modules: gto\n",
    "\n",
    "#### Initializing a Molecule\n",
    "\n",
    "- Molecules can be created using the keyword arguments of Mole.build() or imported coordinates from a xyz file\n",
    "\n",
    "#### Geometry\n",
    "\n",
    "- The molecular geometry is input in Cartesian format (default unit is Angstrom)\n",
    "- The units can be specified by setting the attribute unit to 'Angstrom' or 'Bohr'\n",
    "- Can use the atom keyword illustrated above\n",
    "- A xyz file containing coordinates of molecules can be used"
   ],
   "metadata": {
    "collapsed": false,
    "pycharm": {
     "name": "#%% md\n"
    }
   }
  },
  {
   "cell_type": "code",
   "execution_count": null,
   "outputs": [],
   "source": [
    "from pyscf import gto"
   ],
   "metadata": {
    "collapsed": false,
    "pycharm": {
     "name": "#%%\n"
    }
   }
  },
  {
   "cell_type": "code",
   "execution_count": null,
   "outputs": [],
   "source": [
    "# Example - H2O\n",
    "mol = gto.Mole()\n",
    "mol.build(\n",
    "    atom = '''O 0 0 0; H 0 1 0; H@2 0 0 1''', # holding coordinates for the molecular geometry\n",
    "    basis = '6-31G', # specifying basis set; for individual atoms use mol.basis = {'O':'sto-3g', 'H':'6-31g', 'H@2':'cc-pvdz'}\n",
    "    charge = 1, #specify charge\n",
    "    spin = 1 #specify spin multiplicity\n",
    ")"
   ],
   "metadata": {
    "collapsed": false,
    "pycharm": {
     "name": "#%%\n"
    }
   }
  },
  {
   "cell_type": "code",
   "execution_count": null,
   "outputs": [],
   "source": [
    "# using sodium stearate (C18H35NaO2) coordinates from molecule construction with Avogadro software\n",
    "mol = gto.M(atom = 'Sodium_Stearate_Mol.xyz')\n",
    "\n",
    "# accessing the molecules coordinates; returns in (N,3) array format\n",
    "print(mol.atom_coords(unit = 'Bohr'))"
   ],
   "metadata": {
    "collapsed": false,
    "pycharm": {
     "name": "#%%\n"
    }
   }
  },
  {
   "cell_type": "markdown",
   "source": [
    "#### Point Group Symmetry\n",
    "- Can invoke point group symmetry by setting attribute 'Mole.symmetry' to True\n",
    "- Can assign symmetry to 'Mole.symmetry' in the initialization process\n",
    "- Symmetry information held in the 'Mole' object\n",
    "- Symmetry module 'symm' can detect point groups and stored in 'Mole.topgroup' and subgroup in 'Mole.groupname'"
   ],
   "metadata": {
    "collapsed": false,
    "pycharm": {
     "name": "#%% md\n"
    }
   }
  },
  {
   "cell_type": "code",
   "execution_count": null,
   "outputs": [],
   "source": [
    "# N2 molecule\n",
    "mol = gto.Mole()\n",
    "mol.atom = 'N 0 0 0; N 0 0 1'\n",
    "mol.symmetry = True #invoking pt. group symmetry\n",
    "mol.symmetry_subgroup = 'C2' #assigning subgroup symmetry\n",
    "mol.build()\n",
    "print(mol.topgroup) #detected point group\n",
    "# Dooh\n",
    "print(mol.groupname) #detected supported subgroup\n",
    "# C2"
   ],
   "metadata": {
    "collapsed": false,
    "pycharm": {
     "name": "#%%\n"
    }
   }
  },
  {
   "cell_type": "code",
   "execution_count": null,
   "outputs": [],
   "source": [
    "# O2 molecule\n",
    "mol = gto.Mole()\n",
    "mol.atom = 'O 0 0 0; O 0 0 1.2'\n",
    "mol.spin = 2\n",
    "mol.symmetry = 'D2h'\n",
    "mol.build()\n",
    "\n",
    "# Symmetry adapted orbitals are held in 'Mole.symm_orb' as a list of 2D arrays\n",
    "#   each element of the list is an atomic orbital to symmetry-adapted orbital transformation matrix of an irreducible representation\n",
    "#   symmetry adapted orbitals held in Mole.symm_orb\n",
    "#   irreducible representations stored in Mole.irrep_name\n",
    "#   internal IDs stored in Mole.irrep_id\n",
    "for s, i, c in zip(mol.irrep_name, mol.irrep_id, mol.symm_orb):\n",
    "    print(s, i, c.shape)\n",
    "\n",
    "#   Ag 0 (10, 3)\n",
    "#   B2g 2 (10, 1)\n",
    "#   B3g 3 (10, 1)\n",
    "#   B1u 5 (10, 3)\n",
    "#   B2u 6 (10, 1)\n",
    "#   B3u 7 (10, 1)\n",
    "\n",
    "\n",
    "# calculating converged SCF energy\n",
    "mf=scf.RHF(mol)\n",
    "mf.kernel() # converged SCF energy = -147.631655286561\n",
    "\n",
    "# calculating dipole moment\n",
    "mf.dip_moment()"
   ],
   "metadata": {
    "collapsed": false,
    "pycharm": {
     "name": "#%%\n"
    }
   }
  },
  {
   "cell_type": "code",
   "execution_count": null,
   "outputs": [],
   "source": [
    "# checking the occupancy of the molecular orbitals (MOs) in each irreducible representation\n",
    "import numpy as np\n",
    "from pyscf import symm\n",
    "\n",
    "def myocc(mf):\n",
    "    mol = mf.mol\n",
    "    orbsym = symm.label_orb_symm(mol, mol.irrep_id, mol.symm_orb, mf.mo_coeff)\n",
    "    doccsym = np.array(orbsym)[mf.mo_occ==2]\n",
    "    soccsym = np.array(orbsym)[mf.mo_occ==1]\n",
    "    for ir,irname in zip(mol.irrep_id, mol.irrep_name):\n",
    "        print('%s, double-occ=%d, single-occ=%d' %\n",
    "              (irname, sum(doccsym==ir), sum(soccsym==ir)))\n",
    "myocc(mf)\n",
    "\n",
    "#   Ag, double-occ = 3, single-occ = 0\n",
    "#   B2g, double-occ = 0, single-occ = 1\n",
    "#   B3g, double-occ = 0, single-occ = 1\n",
    "#   B1u, double-occ = 2, single-occ = 0\n",
    "#   B2u, double-occ = 1, single-occ = 0\n",
    "#   B3u, double-occ = 1, single-occ = 0"
   ],
   "metadata": {
    "collapsed": false,
    "pycharm": {
     "name": "#%%\n"
    }
   }
  },
  {
   "cell_type": "markdown",
   "source": [
    "### Density Functional Theory (DFT)\n",
    "Quantum-mechanical (QM) method to calculate electronic structure of atoms, molecules, and solids\n",
    "Electronic structure method\n",
    "\n",
    "Modules: dft, pbd.dft"
   ],
   "metadata": {
    "collapsed": false,
    "pycharm": {
     "name": "#%% md\n"
    }
   }
  },
  {
   "cell_type": "code",
   "execution_count": null,
   "outputs": [],
   "source": [
    "from pyscf import dft"
   ],
   "metadata": {
    "collapsed": false,
    "pycharm": {
     "name": "#%%\n"
    }
   }
  },
  {
   "cell_type": "code",
   "execution_count": null,
   "outputs": [],
   "source": [
    "# simple example of using the dft module with molecule HF\n",
    "mol_hf = gto.M(atom = 'H 0 0 0; F 0 0 1.1', basis = 'ccpvdz', symmetry = True)\n",
    "mf_hf = dft.RKS(mol_hf)\n",
    "mf_hf.xc = 'lda,vwn' # default\n",
    "mf_hf = mf_hf.newton() # second-order algortihm\n",
    "mf_hf.kernel() #converged SCF energy = -99.7624175432877"
   ],
   "metadata": {
    "collapsed": false,
    "pycharm": {
     "name": "#%%\n"
    }
   }
  },
  {
   "cell_type": "markdown",
   "source": [
    "### QM/MM Methods\n",
    "\n",
    "The hybrid quantum mechanics/molecular mechanics as a molecular simulation methods allowing for the study of chemical processes in solution and in proteins\n",
    "\n",
    "Combines\n",
    "- ab initio QM calculations (accuracy)\n",
    "- MM (speed)\n",
    "\n",
    "Modules: qmmm"
   ],
   "metadata": {
    "collapsed": false,
    "pycharm": {
     "name": "#%% md\n"
    }
   }
  },
  {
   "cell_type": "code",
   "execution_count": null,
   "outputs": [],
   "source": [
    "from pyscf import qmmm, scf"
   ],
   "metadata": {
    "collapsed": false,
    "pycharm": {
     "name": "#%%\n"
    }
   }
  },
  {
   "cell_type": "code",
   "execution_count": null,
   "outputs": [],
   "source": [
    "# SCF methods with MM charges\n",
    "\n",
    "# simple example of using the qmmm module\n",
    "mol = gto.M(atom = 'H 0 0 0; F 0 0 1',\n",
    "            basis = 'ccpvdz')\n",
    "coords = [(0.5, 0.6, 0.8)]\n",
    "charges = [-0.3]\n",
    "mf = qmmm.mm_charge(scf.RHF(mol), coords, charges)\n",
    "mf.kernel() #converged SCF energy = -100.045455504517"
   ],
   "metadata": {
    "collapsed": false,
    "pycharm": {
     "name": "#%%\n"
    }
   }
  },
  {
   "cell_type": "markdown",
   "source": [
    "### Geometry Optimization\n",
    "\n",
    "Modules: geomopt"
   ],
   "metadata": {
    "collapsed": false,
    "pycharm": {
     "name": "#%% md\n"
    }
   }
  },
  {
   "cell_type": "code",
   "execution_count": null,
   "outputs": [],
   "source": [
    "from pyscf import geomopt\n",
    "from pyscf.geomopt.geometric_solver import optimize #importing the optimize() function to invoke optimization"
   ],
   "metadata": {
    "collapsed": false,
    "pycharm": {
     "name": "#%%\n"
    }
   }
  },
  {
   "cell_type": "markdown",
   "source": [
    "First way is using the optimize() function:"
   ],
   "metadata": {
    "collapsed": false,
    "pycharm": {
     "name": "#%% md\n"
    }
   }
  },
  {
   "cell_type": "code",
   "execution_count": null,
   "outputs": [],
   "source": [
    "# simple geometry optimization with N2\n",
    "mol = gto.Mole(atom = 'N 0 0 0; N 0 0 1.2',\n",
    "               basis = 'ccpvdz')\n",
    "mf = scf.RHF(mol)"
   ],
   "metadata": {
    "collapsed": false,
    "pycharm": {
     "name": "#%%\n"
    }
   }
  },
  {
   "cell_type": "markdown",
   "source": [
    "Second way is to create an optimizer() from the 'Gradient' class:"
   ],
   "metadata": {
    "collapsed": false,
    "pycharm": {
     "name": "#%% md\n"
    }
   }
  },
  {
   "cell_type": "code",
   "execution_count": null,
   "outputs": [],
   "source": [
    "mol_eq = mf.Gradients().optimizer(solver='geomeTRIC').kernel()\n",
    "print(mol_eq.atom_coords())"
   ],
   "metadata": {
    "collapsed": false,
    "pycharm": {
     "name": "#%%\n"
    }
   }
  },
  {
   "cell_type": "markdown",
   "source": [
    "#### Transition State Optimization\n",
    "- PySCF extension qsdopt (quadratic steepest descent method)"
   ],
   "metadata": {
    "collapsed": false,
    "pycharm": {
     "name": "#%% md\n"
    }
   }
  },
  {
   "cell_type": "code",
   "execution_count": null,
   "outputs": [],
   "source": [
    "from pyscf.qsdopt.qsd_optimizer import QSD"
   ],
   "metadata": {
    "collapsed": false,
    "pycharm": {
     "name": "#%%\n"
    }
   }
  },
  {
   "cell_type": "code",
   "execution_count": null,
   "outputs": [],
   "source": [
    "# simple example of transition state optimization with H2O molecule\n",
    "mol = gto.M(atom = '''O 0 0 0; H 0 0 1.2; H 0, 0.5, -1.2''',\n",
    "            basis = 'minao',\n",
    "            verbose = 0,\n",
    "            unit = \"Bohr\")\n",
    "mf = scf.RHF(mol)\n",
    "\n",
    "optimizer = QSD(mf, stationary_point = \"TS\")\n",
    "optimizer.kernel()"
   ],
   "metadata": {
    "collapsed": false,
    "pycharm": {
     "name": "#%%\n"
    }
   }
  },
  {
   "cell_type": "markdown",
   "source": [
    "#### Excited States\n",
    "- For excited-state geometry optimizations, the optimized state needs to be specified in the respective 'Gradient's objects"
   ],
   "metadata": {
    "collapsed": false,
    "pycharm": {
     "name": "#%% md\n"
    }
   }
  },
  {
   "cell_type": "code",
   "execution_count": null,
   "outputs": [],
   "source": [
    "from pyscf import ci, tdscf, mcscf\n",
    "from pyscf import geomopt"
   ],
   "metadata": {
    "collapsed": false,
    "pycharm": {
     "name": "#%%\n"
    }
   }
  },
  {
   "cell_type": "code",
   "execution_count": null,
   "outputs": [],
   "source": [
    "mol = gto.Mole()\n",
    "mol.atom=\"N; N 1, 1.1\"\n",
    "mol.basis= \"6-31g\"\n",
    "mol.build()\n",
    "mol1 = mol.copy()\n",
    "\n",
    "mf = scf.RHF(mol).run()\n",
    "\n",
    "mc = mcscf.CASCI(mf, 4,4)\n",
    "mc.fcisolver.nstates = 3\n",
    "excited_grad = mc.nuc_grad_method().as_scanner(state=2)\n",
    "mol1 = excited_grad.optimizer().kernel()\n",
    "#(or) mol1 = geomopt.optimize(excited_grad)\n",
    "\n",
    "\n",
    "td = tdscf.TDHF(mf)\n",
    "td.nstates = 5\n",
    "excited_grad = td.nuc_grad_method().as_scanner(state=4)\n",
    "mol1 = excited_grad.optimizer().kernel()\n",
    "#(or) mol1 = geomopt.optimize(excited_grad)\n",
    "\n",
    "\n",
    "myci = ci.CISD(mf)\n",
    "myci.nstates = 2\n",
    "excited_grad = myci.nuc_grad_method().as_scanner(state=1)\n",
    "mol1 = excited_grad.optimizer().kernel()\n",
    "#(or) geomopt.optimize(excited_grad)"
   ],
   "metadata": {
    "collapsed": false,
    "pycharm": {
     "name": "#%%\n"
    }
   }
  }
 ],
 "metadata": {
  "kernelspec": {
   "display_name": "Python 3",
   "language": "python",
   "name": "python3"
  },
  "language_info": {
   "codemirror_mode": {
    "name": "ipython",
    "version": 2
   },
   "file_extension": ".py",
   "mimetype": "text/x-python",
   "name": "python",
   "nbconvert_exporter": "python",
   "pygments_lexer": "ipython2",
   "version": "2.7.6"
  }
 },
 "nbformat": 4,
 "nbformat_minor": 0
}