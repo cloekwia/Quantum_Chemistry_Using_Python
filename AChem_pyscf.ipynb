{
 "cells": [
  {
   "cell_type": "markdown",
   "source": [
    "# Using Python for Quantum Chemistry Calculations"
   ],
   "metadata": {
    "collapsed": false,
    "pycharm": {
     "name": "#%% md\n"
    }
   }
  },
  {
   "cell_type": "markdown",
   "source": [
    "![](python-logo.png)"
   ],
   "metadata": {
    "collapsed": false,
    "pycharm": {
     "name": "#%% md\n"
    }
   }
  },
  {
   "cell_type": "markdown",
   "source": [
    "#### Python Package Python-based Simulations of Chemistry Framework (PySCF)\n",
    "\n",
    "Resources:\n",
    "https://pyscf.org/index.html\n",
    "https://www.python.org/\n",
    "https://avogadro.cc/\n",
    "\n",
    "The PySCF Python package is an open source collection of electronic structure models. It is designed for easy extensibility and simple enough that it requires only a fundamental understanding. PySCF's objective is to simply and efficiently solve quantum chemistry calculations and simulate properties of given molecules or crystals. It is a highly customizable Python package and contains an array of features and extension modules for further analysis.\n",
    "\n",
    "Main Functionalities:\n",
    "- *Molecular structure\n",
    "- Self-consistent field (SCF) methods\n",
    "- *Density functional theory (DFT)\n",
    "- Second-order Moller-Plesset perturbation theory\n",
    "- GW approximation\n",
    "- Configuration interaction (CISC and FCI)\n",
    "- Coupled-cluster theory\n",
    "- Algebraic diagrammatic construction (ADC)\n",
    "- Auxiliary second-order Green's functional perturbation theory (AGF2)\n",
    "- Multi-configuration self-consistent field (MCSCF)\n",
    "- Time-dependent Hartree-Fock and density functional theory\n",
    "- Solvation models\n",
    "- *QM/MM methods\n",
    "- Density fitting\n",
    "- Periodic boundary conditions\n",
    "- Electronic-phonon coupling\n",
    "- Localized orbitals\n",
    "- Seminumerical exchange (SGX)\n",
    "- *Geometry optimization\n",
    "*Modules utilized in following analysis"
   ],
   "metadata": {
    "collapsed": false,
    "pycharm": {
     "name": "#%% md\n"
    }
   }
  },
  {
   "cell_type": "markdown",
   "source": [
    "![](pyscf-logo.png)"
   ],
   "metadata": {
    "collapsed": false,
    "pycharm": {
     "name": "#%% md\n"
    }
   }
  },
  {
   "cell_type": "code",
   "execution_count": null,
   "outputs": [],
   "source": [
    "# imports required to run\n",
    "import pyscf\n",
    "import numpy as np"
   ],
   "metadata": {
    "collapsed": false,
    "pycharm": {
     "name": "#%%\n",
     "is_executing": true
    }
   }
  },
  {
   "cell_type": "markdown",
   "source": [
    "### Molecular Structure\n",
    "Modules: gto\n",
    "\n",
    "#### Initializing a Molecule\n",
    "\n",
    "- Molecules can be created using the keyword arguments of Mole.build() or imported coordinates from a xyz file\n",
    "\n",
    "#### Geometry\n",
    "\n",
    "- The molecular geometry is input in Cartesian format (default unit is Angstrom)\n",
    "- The units can be specified by setting the attribute unit to 'Angstrom' or 'Bohr'\n",
    "- Can use the atom keyword illustrated above\n",
    "- A xyz file containing coordinates of molecules can be used"
   ],
   "metadata": {
    "collapsed": false,
    "pycharm": {
     "name": "#%% md\n"
    }
   }
  },
  {
   "cell_type": "code",
   "execution_count": null,
   "outputs": [],
   "source": [
    "from pyscf import gto"
   ],
   "metadata": {
    "collapsed": false,
    "pycharm": {
     "name": "#%%\n"
    }
   }
  },
  {
   "cell_type": "code",
   "execution_count": null,
   "outputs": [],
   "source": [
    "# Example - H2O\n",
    "mol = gto.Mole()\n",
    "mol.build(\n",
    "    atom = '''O 0 0 0; H 0 1 0; H@2 0 0 1''', # holding coordinates for the molecular geometry\n",
    "    basis = '6-31G', # specifying basis set; for individual atoms use mol.basis = {'O':'sto-3g', 'H':'6-31g', 'H@2':'cc-pvdz'}\n",
    "    charge = 1, #specify charge\n",
    "    spin = 1 #specify spin multiplicity\n",
    ")"
   ],
   "metadata": {
    "collapsed": false,
    "pycharm": {
     "name": "#%%\n"
    }
   }
  },
  {
   "cell_type": "code",
   "execution_count": null,
   "outputs": [],
   "source": [
    "# using sodium stearate (C18H35NaO2) coordinates from molecule construction with Avogadro software\n",
    "mol = gto.M(atom = 'Sodium_Stearate_Mol.xyz')\n",
    "\n",
    "# accessing the molecules coordinates; returns in (N,3) array format\n",
    "print(mol.atom_coords(unit = 'Bohr'))"
   ],
   "metadata": {
    "collapsed": false,
    "pycharm": {
     "name": "#%%\n"
    }
   }
  },
  {
   "cell_type": "markdown",
   "source": [
    "#### Point Group Symmetry\n",
    "- Can invoke point group symmetry by setting attribute 'Mole.symmetry' to True\n",
    "- Can assign symmetry to 'Mole.symmetry' in the initialization process\n",
    "- Symmetry information held in the 'Mole' object\n",
    "- Symmetry module 'symm' can detect point groups and stored in 'Mole.topgroup' and subgroup in 'Mole.groupname'"
   ],
   "metadata": {
    "collapsed": false,
    "pycharm": {
     "name": "#%% md\n"
    }
   }
  },
  {
   "cell_type": "code",
   "execution_count": null,
   "outputs": [],
   "source": [
    "# N2 molecule\n",
    "mol = gto.Mole()\n",
    "mol.atom = 'N 0 0 0; N 0 0 1'\n",
    "mol.symmetry = True #invoking pt. group symmetry\n",
    "mol.symmetry_subgroup = 'C2' #assigning subgroup symmetry\n",
    "mol.build()\n",
    "print(mol.topgroup) #detected point group\n",
    "# Dooh\n",
    "print(mol.groupname) #detected supported subgroup\n",
    "# C2"
   ],
   "metadata": {
    "collapsed": false,
    "pycharm": {
     "name": "#%%\n"
    }
   }
  },
  {
   "cell_type": "code",
   "execution_count": null,
   "outputs": [],
   "source": [
    "# O2 molecule\n",
    "mol = gto.Mole()\n",
    "mol.atom = 'O 0 0 0; O 0 0 1.2'\n",
    "mol.spin = 2\n",
    "mol.symmetry = 'D2h'\n",
    "mol.build()\n",
    "\n",
    "# Symmetry adapted orbitals are held in 'Mole.symm_orb' as a list of 2D arrays\n",
    "#   each element of the list is an atomic orbital to symmetry-adapted orbital transformation matrix of an irreducible representation\n",
    "#   symmetry adapted orbitals held in Mole.symm_orb\n",
    "#   irreducible representations stored in Mole.irrep_name\n",
    "#   internal IDs stored in Mole.irrep_id\n",
    "for s, i, c in zip(mol.irrep_name, mol.irrep_id, mol.symm_orb):\n",
    "    print(s, i, c.shape)\n",
    "\n",
    "#   Ag 0 (10, 3)\n",
    "#   B2g 2 (10, 1)\n",
    "#   B3g 3 (10, 1)\n",
    "#   B1u 5 (10, 3)\n",
    "#   B2u 6 (10, 1)\n",
    "#   B3u 7 (10, 1)\n",
    "\n",
    "\n",
    "# calculating converged SCF energy\n",
    "mf=scf.RHF(mol)\n",
    "mf.kernel() # converged SCF energy = -147.631655286561\n",
    "\n",
    "# calculating dipole moment\n",
    "mf.dip_moment()"
   ],
   "metadata": {
    "collapsed": false,
    "pycharm": {
     "name": "#%%\n"
    }
   }
  },
  {
   "cell_type": "code",
   "execution_count": null,
   "outputs": [],
   "source": [
    "# checking the occupancy of the molecular orbitals (MOs) in each irreducible representation\n",
    "import numpy as np\n",
    "from pyscf import symm\n",
    "\n",
    "def myocc(mf):\n",
    "    mol = mf.mol\n",
    "    orbsym = symm.label_orb_symm(mol, mol.irrep_id, mol.symm_orb, mf.mo_coeff)\n",
    "    doccsym = np.array(orbsym)[mf.mo_occ==2]\n",
    "    soccsym = np.array(orbsym)[mf.mo_occ==1]\n",
    "    for ir,irname in zip(mol.irrep_id, mol.irrep_name):\n",
    "        print('%s, double-occ=%d, single-occ=%d' %\n",
    "              (irname, sum(doccsym==ir), sum(soccsym==ir)))\n",
    "myocc(mf)\n",
    "\n",
    "#   Ag, double-occ = 3, single-occ = 0\n",
    "#   B2g, double-occ = 0, single-occ = 1\n",
    "#   B3g, double-occ = 0, single-occ = 1\n",
    "#   B1u, double-occ = 2, single-occ = 0\n",
    "#   B2u, double-occ = 1, single-occ = 0\n",
    "#   B3u, double-occ = 1, single-occ = 0"
   ],
   "metadata": {
    "collapsed": false,
    "pycharm": {
     "name": "#%%\n"
    }
   }
  },
  {
   "cell_type": "markdown",
   "source": [
    "### Density Functional Theory (DFT)\n",
    "Quantum-mechanical (QM) method to calculate electronic structure of atoms, molecules, and solids\n",
    "Electronic structure method\n",
    "\n",
    "Modules: dft, pbd.dft"
   ],
   "metadata": {
    "collapsed": false,
    "pycharm": {
     "name": "#%% md\n"
    }
   }
  },
  {
   "cell_type": "code",
   "execution_count": null,
   "outputs": [],
   "source": [
    "from pyscf import dft"
   ],
   "metadata": {
    "collapsed": false,
    "pycharm": {
     "name": "#%%\n"
    }
   }
  },
  {
   "cell_type": "code",
   "execution_count": null,
   "outputs": [],
   "source": [
    "# simple example of using the dft module with molecule HF\n",
    "mol_hf = gto.M(atom = 'H 0 0 0; F 0 0 1.1', basis = 'ccpvdz', symmetry = True)\n",
    "mf_hf = dft.RKS(mol_hf)\n",
    "mf_hf.xc = 'lda,vwn' # default\n",
    "mf_hf = mf_hf.newton() # second-order algortihm\n",
    "mf_hf.kernel() #converged SCF energy = -99.7624175432877"
   ],
   "metadata": {
    "collapsed": false,
    "pycharm": {
     "name": "#%%\n"
    }
   }
  },
  {
   "cell_type": "markdown",
   "source": [
    "### QM/MM Methods\n",
    "\n",
    "The hybrid quantum mechanics/molecular mechanics as a molecular simulation methods allowing for the study of chemical processes in solution and in proteins\n",
    "\n",
    "Combines\n",
    "- ab initio QM calculations (accuracy)\n",
    "- MM (speed)\n",
    "\n",
    "Modules: qmmm"
   ],
   "metadata": {
    "collapsed": false,
    "pycharm": {
     "name": "#%% md\n"
    }
   }
  },
  {
   "cell_type": "code",
   "execution_count": null,
   "outputs": [],
   "source": [
    "from pyscf import qmmm, scf"
   ],
   "metadata": {
    "collapsed": false,
    "pycharm": {
     "name": "#%%\n"
    }
   }
  },
  {
   "cell_type": "code",
   "execution_count": null,
   "outputs": [],
   "source": [
    "# SCF methods with MM charges\n",
    "\n",
    "# simple example of using the qmmm module\n",
    "mol = gto.M(atom = 'H 0 0 0; F 0 0 1',\n",
    "            basis = 'ccpvdz')\n",
    "coords = [(0.5, 0.6, 0.8)]\n",
    "charges = [-0.3]\n",
    "mf = qmmm.mm_charge(scf.RHF(mol), coords, charges)\n",
    "mf.kernel() #converged SCF energy = -100.045455504517"
   ],
   "metadata": {
    "collapsed": false,
    "pycharm": {
     "name": "#%%\n"
    }
   }
  },
  {
   "cell_type": "markdown",
   "source": [
    "### Geometry Optimization\n",
    "\n",
    "Modules: geomopt"
   ],
   "metadata": {
    "collapsed": false,
    "pycharm": {
     "name": "#%% md\n"
    }
   }
  },
  {
   "cell_type": "code",
   "execution_count": null,
   "outputs": [],
   "source": [
    "from pyscf import geomopt\n",
    "from pyscf.geomopt.geometric_solver import optimize #importing the optimize() function to invoke optimization"
   ],
   "metadata": {
    "collapsed": false,
    "pycharm": {
     "name": "#%%\n"
    }
   }
  },
  {
   "cell_type": "markdown",
   "source": [
    "First way is using the optimize() function:"
   ],
   "metadata": {
    "collapsed": false,
    "pycharm": {
     "name": "#%% md\n"
    }
   }
  },
  {
   "cell_type": "code",
   "execution_count": null,
   "outputs": [],
   "source": [
    "# simple geometry optimization with N2\n",
    "mol = gto.Mole(atom = 'N 0 0 0; N 0 0 1.2',\n",
    "               basis = 'ccpvdz')\n",
    "mf = scf.RHF(mol)"
   ],
   "metadata": {
    "collapsed": false,
    "pycharm": {
     "name": "#%%\n"
    }
   }
  },
  {
   "cell_type": "markdown",
   "source": [
    "Second way is to create an optimizer() from the 'Gradient' class:"
   ],
   "metadata": {
    "collapsed": false,
    "pycharm": {
     "name": "#%% md\n"
    }
   }
  },
  {
   "cell_type": "code",
   "execution_count": null,
   "outputs": [],
   "source": [
    "mol_eq = mf.Gradients().optimizer(solver='geomeTRIC').kernel()\n",
    "print(mol_eq.atom_coords())"
   ],
   "metadata": {
    "collapsed": false,
    "pycharm": {
     "name": "#%%\n"
    }
   }
  },
  {
   "cell_type": "markdown",
   "source": [
    "#### Transition State Optimization\n",
    "- PySCF extension qsdopt (quadratic steepest descent method)"
   ],
   "metadata": {
    "collapsed": false,
    "pycharm": {
     "name": "#%% md\n"
    }
   }
  },
  {
   "cell_type": "code",
   "execution_count": null,
   "outputs": [],
   "source": [
    "from pyscf.qsdopt.qsd_optimizer import QSD"
   ],
   "metadata": {
    "collapsed": false,
    "pycharm": {
     "name": "#%%\n"
    }
   }
  },
  {
   "cell_type": "code",
   "execution_count": null,
   "outputs": [],
   "source": [
    "# simple example of transition state optimization with H2O molecule\n",
    "mol = gto.M(atom = '''O 0 0 0; H 0 0 1.2; H 0, 0.5, -1.2''',\n",
    "            basis = 'minao',\n",
    "            verbose = 0,\n",
    "            unit = \"Bohr\")\n",
    "mf = scf.RHF(mol)\n",
    "\n",
    "optimizer = QSD(mf, stationary_point = \"TS\")\n",
    "optimizer.kernel()"
   ],
   "metadata": {
    "collapsed": false,
    "pycharm": {
     "name": "#%%\n"
    }
   }
  },
  {
   "cell_type": "markdown",
   "source": [
    "#### Excited States\n",
    "- For excited-state geometry optimizations, the optimized state needs to be specified in the respective 'Gradient's objects"
   ],
   "metadata": {
    "collapsed": false,
    "pycharm": {
     "name": "#%% md\n"
    }
   }
  },
  {
   "cell_type": "code",
   "execution_count": null,
   "outputs": [],
   "source": [
    "from pyscf import ci, tdscf, mcscf\n",
    "from pyscf import geomopt"
   ],
   "metadata": {
    "collapsed": false,
    "pycharm": {
     "name": "#%%\n"
    }
   }
  },
  {
   "cell_type": "code",
   "execution_count": null,
   "outputs": [],
   "source": [
    "mol = gto.Mole()\n",
    "mol.atom=\"N; N 1, 1.1\"\n",
    "mol.basis= \"6-31g\"\n",
    "mol.build()\n",
    "mol1 = mol.copy()\n",
    "\n",
    "mf = scf.RHF(mol).run()\n",
    "\n",
    "mc = mcscf.CASCI(mf, 4,4)\n",
    "mc.fcisolver.nstates = 3\n",
    "excited_grad = mc.nuc_grad_method().as_scanner(state=2)\n",
    "mol1 = excited_grad.optimizer().kernel()\n",
    "#(or) mol1 = geomopt.optimize(excited_grad)\n",
    "\n",
    "\n",
    "td = tdscf.TDHF(mf)\n",
    "td.nstates = 5\n",
    "excited_grad = td.nuc_grad_method().as_scanner(state=4)\n",
    "mol1 = excited_grad.optimizer().kernel()\n",
    "#(or) mol1 = geomopt.optimize(excited_grad)\n",
    "\n",
    "\n",
    "myci = ci.CISD(mf)\n",
    "myci.nstates = 2\n",
    "excited_grad = myci.nuc_grad_method().as_scanner(state=1)\n",
    "mol1 = excited_grad.optimizer().kernel()\n",
    "#(or) geomopt.optimize(excited_grad)"
   ],
   "metadata": {
    "collapsed": false,
    "pycharm": {
     "name": "#%%\n"
    }
   }
  }
 ],
 "metadata": {
  "kernelspec": {
   "display_name": "Python 3",
   "language": "python",
   "name": "python3"
  },
  "language_info": {
   "codemirror_mode": {
    "name": "ipython",
    "version": 2
   },
   "file_extension": ".py",
   "mimetype": "text/x-python",
   "name": "python",
   "nbconvert_exporter": "python",
   "pygments_lexer": "ipython2",
   "version": "2.7.6"
  }
 },
 "nbformat": 4,
 "nbformat_minor": 0
}